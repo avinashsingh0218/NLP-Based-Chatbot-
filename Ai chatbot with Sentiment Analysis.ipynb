{
 "cells": [
  {
   "cell_type": "code",
   "execution_count": null,
   "id": "e36c773f-7e7b-4d62-a731-526473907f71",
   "metadata": {},
   "outputs": [
    {
     "name": "stdout",
     "output_type": "stream",
     "text": [
      "Hello human, what's your name?!🤔\n"
     ]
    },
    {
     "name": "stdin",
     "output_type": "stream",
     "text": [
      " RAJ\n"
     ]
    },
    {
     "name": "stdout",
     "output_type": "stream",
     "text": [
      "Do you have a nickname?! [y/n] 🙃\n"
     ]
    },
    {
     "name": "stdin",
     "output_type": "stream",
     "text": [
      " NO\n"
     ]
    },
    {
     "name": "stdout",
     "output_type": "stream",
     "text": [
      "I will call you gwen😜\n",
      "Howdy gwen friend, how you feeling' today?\n"
     ]
    },
    {
     "name": "stdin",
     "output_type": "stream",
     "text": [
      " NO\n"
     ]
    },
    {
     "name": "stdout",
     "output_type": "stream",
     "text": [
      "Sorry to hear that! 😔\n",
      "I would like your opinion on COD?\n"
     ]
    }
   ],
   "source": [
    "# import libraries\n",
    "\n",
    "import random\n",
    "from textblob import TextBlob\n",
    "\n",
    "#1 name and nickname conversation\n",
    "\n",
    "print(\"Hello human, what's your name?!🤔\")\n",
    "name = input()\n",
    "print('Do you have a nickname?! [y/n] 🙃')\n",
    "ans = input()\n",
    "if 'y' in ans.lower():\n",
    "  print(\"What's your nickname?!😍\")\n",
    "  nickname = input()\n",
    "  print('Good to meet you ' + nickname + '😁')\n",
    "else:\n",
    "  name_list = ['kalinga', 'don', 'maruti', 'ideal', 'xoxo', 'kimchi', 'fatty-mcFat', 'mother-coconuts', 'phineas',\n",
    "               'audi', 'tennis', 'gwen', 'rocky', 'meow', 'tuple', 'silly goose', 'babe', 'rose', 'tupperware', 'dude']\n",
    "  nickname = random.choice(name_list)\n",
    "  print('I will call you '+nickname + '😜')\n",
    "\n",
    "#2 greeting selection\n",
    "greetings = [\n",
    "    'How are you today ' + nickname + '?',\n",
    "    'Howdy ' + nickname + \" friend, how you feeling' today?\",\n",
    "    \"What's up \" + nickname + '?',\n",
    "    'Greetings ' + nickname + ' are you well?',\n",
    "    'How are things going ' + nickname + '?'\n",
    "]\n",
    "print(random.choice(greetings))\n",
    "ans = input()\n",
    "blob = TextBlob(ans)\n",
    "\n",
    "if blob.polarity > 0:\n",
    "  print('Glad you are doing well!😊')\n",
    "else:\n",
    "  print('Sorry to hear that! 😔')\n",
    "\n",
    "\n",
    "#3 several random opinions\n",
    "\n",
    "topics = [\n",
    "    'football',\n",
    "    'coding',\n",
    "    'marvel',\n",
    "    'cricket',\n",
    "    'Python',\n",
    "    'Computer Games',\n",
    "    'free fire',\n",
    "    'COD'\n",
    "]\n",
    "\n",
    "questions = [\n",
    "    'What is your take on ',\n",
    "    'What do u think about ',\n",
    "    'How do u feel about ',\n",
    "    'What do u reckon about ',\n",
    "    'I would like your opinion on '\n",
    "]\n",
    "for i in range(0, random.randint(3, 4)):\n",
    "  question = random.choice(questions)\n",
    "  questions.remove(question)\n",
    "  topic = random.choice(topics)\n",
    "  topics.remove(topic)\n",
    "  print(question + topic+'?')\n",
    "  ans = input()\n",
    "  blob = TextBlob(ans)\n",
    "\n",
    "  if blob.polarity > 0.5:\n",
    "    print(\"OMG, you really love \"+topic)\n",
    "  elif blob.polarity > 0.5:\n",
    "    print(\"Well, you clearly like \"+topic)\n",
    "  elif blob.polarity < -0.5:\n",
    "    print(\"Uff, you totally hate \"+topic)\n",
    "  elif blob.polarity < -0.1:\n",
    "    print(\"So you don't like \"+topic)\n",
    "  else:\n",
    "    print('That is a very neutral view on '+topic)\n",
    "\n",
    "  if blob.subjectivity > 0.6:\n",
    "    print('and you are so biased!')\n",
    "  elif blob.subjectivity > 0.3:\n",
    "    print('and you are bit biased!')\n",
    "  else:\n",
    "    print('and you are quite objective, huh!')\n",
    "\n",
    "#4 random goodbye\n",
    "\n",
    "goodbyes = [\n",
    "    'It was good talking to u ' + nickname + 'I gotta go now!',\n",
    "    \"OK I'm bored, I go watch NetFlix\",\n",
    "    \"Bye Bye American Pie, I'm out!\",\n",
    "    \"Catch ya later \" + nickname\n",
    "]\n",
    "\n",
    "print(random.choice(goodbyes))"
   ]
  },
  {
   "cell_type": "code",
   "execution_count": null,
   "id": "d3360a08-3995-4e06-a287-30f4c92dbeae",
   "metadata": {},
   "outputs": [],
   "source": []
  }
 ],
 "metadata": {
  "kernelspec": {
   "display_name": "Python 3 (ipykernel)",
   "language": "python",
   "name": "python3"
  },
  "language_info": {
   "codemirror_mode": {
    "name": "ipython",
    "version": 3
   },
   "file_extension": ".py",
   "mimetype": "text/x-python",
   "name": "python",
   "nbconvert_exporter": "python",
   "pygments_lexer": "ipython3",
   "version": "3.11.7"
  }
 },
 "nbformat": 4,
 "nbformat_minor": 5
}
